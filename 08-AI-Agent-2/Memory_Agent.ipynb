{
 "cells": [
  {
   "cell_type": "code",
   "execution_count": 12,
   "metadata": {},
   "outputs": [],
   "source": [
    "from typing import TypedDict, List, Union\n",
    "from langchain_core.messages import HumanMessage, AIMessage\n",
    "from langchain_openai import ChatOpenAI\n",
    "from langgraph.graph import StateGraph, START, END\n",
    "from dotenv import load_dotenv"
   ]
  },
  {
   "cell_type": "code",
   "execution_count": 16,
   "metadata": {},
   "outputs": [
    {
     "data": {
      "text/plain": [
       "True"
      ]
     },
     "execution_count": 16,
     "metadata": {},
     "output_type": "execute_result"
    }
   ],
   "source": [
    "load_dotenv()"
   ]
  },
  {
   "cell_type": "code",
   "execution_count": 17,
   "metadata": {},
   "outputs": [],
   "source": [
    "class AgentState(TypedDict):\n",
    "    messages: List[Union[HumanMessage, AIMessage]]"
   ]
  },
  {
   "cell_type": "code",
   "execution_count": 18,
   "metadata": {},
   "outputs": [],
   "source": [
    "model = ChatOpenAI(model=\"gpt-4o\")"
   ]
  },
  {
   "cell_type": "code",
   "execution_count": 26,
   "metadata": {},
   "outputs": [],
   "source": [
    "def process(state: AgentState) -> AgentState:\n",
    "    \"\"\"This node will solve the request your input\"\"\"\n",
    "    response = model.invoke(state[\"messages\"])\n",
    "\n",
    "    state[\"messages\"].append(AIMessage(content=response.content)) \n",
    "    print(f\"\\nAI: {response.content}\")\n",
    "    print(\"CURRENT STATE: \", state[\"messages\"])\n",
    "    \n",
    "    return state"
   ]
  },
  {
   "cell_type": "code",
   "execution_count": 28,
   "metadata": {},
   "outputs": [],
   "source": [
    "graph = StateGraph(AgentState)\n",
    "graph.add_node(\"process\", process)\n",
    "\n",
    "graph.add_edge(START, \"process\")\n",
    "graph.add_edge(\"process\", END)\n",
    "\n",
    "agent = graph.compile()\n",
    "\n",
    "conversation_history = []"
   ]
  },
  {
   "cell_type": "code",
   "execution_count": 29,
   "metadata": {},
   "outputs": [
    {
     "data": {
      "image/png": "[encoded data removed]",
      "text/plain": [
       "<IPython.core.display.Image object>"
      ]
     },
     "metadata": {},
     "output_type": "display_data"
    }
   ],
   "source": [
    "# %%\n",
    "# In[11]:\n",
    "from IPython.display import display, Image\n",
    "display(Image(agent.get_graph().draw_mermaid_png()))"
   ]
  },
  {
   "cell_type": "code",
   "execution_count": 33,
   "metadata": {},
   "outputs": [
    {
     "name": "stdout",
     "output_type": "stream",
     "text": [
      "\n",
      "AI: Hello, Pratap! What would you like to talk about today?\n",
      "CURRENT STATE:  [HumanMessage(content='Hi', additional_kwargs={}, response_metadata={}), AIMessage(content='Hello! How can I assist you today?', additional_kwargs={}, response_metadata={}), HumanMessage(content=\"What's the sqaure root of 4\", additional_kwargs={}, response_metadata={}), AIMessage(content='The square root of 4 is 2.', additional_kwargs={}, response_metadata={}), HumanMessage(content='Hi', additional_kwargs={}, response_metadata={}), AIMessage(content='Hello again! How can I help you?', additional_kwargs={}, response_metadata={}), HumanMessage(content='My name is Pratap', additional_kwargs={}, response_metadata={}), AIMessage(content='Nice to meet you, Pratap! How can I assist you today?', additional_kwargs={}, response_metadata={}), HumanMessage(content='Who am I?', additional_kwargs={}, response_metadata={}), AIMessage(content=\"You mentioned that your name is Pratap. Beyond that, I don't have any additional information about you. If you'd like to share more, feel free to do so!\", additional_kwargs={}, response_metadata={}), HumanMessage(content='Hi', additional_kwargs={}, response_metadata={}), AIMessage(content='Hello, Pratap! What would you like to talk about today?', additional_kwargs={}, response_metadata={})]\n",
      "\n",
      "AI: Nice to hear from you again, Pratap! How can I assist you today?\n",
      "CURRENT STATE:  [HumanMessage(content='Hi', additional_kwargs={}, response_metadata={}), AIMessage(content='Hello! How can I assist you today?', additional_kwargs={}, response_metadata={}), HumanMessage(content=\"What's the sqaure root of 4\", additional_kwargs={}, response_metadata={}), AIMessage(content='The square root of 4 is 2.', additional_kwargs={}, response_metadata={}), HumanMessage(content='Hi', additional_kwargs={}, response_metadata={}), AIMessage(content='Hello again! How can I help you?', additional_kwargs={}, response_metadata={}), HumanMessage(content='My name is Pratap', additional_kwargs={}, response_metadata={}), AIMessage(content='Nice to meet you, Pratap! How can I assist you today?', additional_kwargs={}, response_metadata={}), HumanMessage(content='Who am I?', additional_kwargs={}, response_metadata={}), AIMessage(content=\"You mentioned that your name is Pratap. Beyond that, I don't have any additional information about you. If you'd like to share more, feel free to do so!\", additional_kwargs={}, response_metadata={}), HumanMessage(content='Hi', additional_kwargs={}, response_metadata={}), AIMessage(content='Hello, Pratap! What would you like to talk about today?', additional_kwargs={}, response_metadata={}), HumanMessage(content='My name is Pratap', additional_kwargs={}, response_metadata={}), AIMessage(content='Nice to hear from you again, Pratap! How can I assist you today?', additional_kwargs={}, response_metadata={})]\n",
      "\n",
      "AI: You are Pratap, as you've mentioned before. If there's anything specific you'd like to explore or discuss about yourself, feel free to let me know!\n",
      "CURRENT STATE:  [HumanMessage(content='Hi', additional_kwargs={}, response_metadata={}), AIMessage(content='Hello! How can I assist you today?', additional_kwargs={}, response_metadata={}), HumanMessage(content=\"What's the sqaure root of 4\", additional_kwargs={}, response_metadata={}), AIMessage(content='The square root of 4 is 2.', additional_kwargs={}, response_metadata={}), HumanMessage(content='Hi', additional_kwargs={}, response_metadata={}), AIMessage(content='Hello again! How can I help you?', additional_kwargs={}, response_metadata={}), HumanMessage(content='My name is Pratap', additional_kwargs={}, response_metadata={}), AIMessage(content='Nice to meet you, Pratap! How can I assist you today?', additional_kwargs={}, response_metadata={}), HumanMessage(content='Who am I?', additional_kwargs={}, response_metadata={}), AIMessage(content=\"You mentioned that your name is Pratap. Beyond that, I don't have any additional information about you. If you'd like to share more, feel free to do so!\", additional_kwargs={}, response_metadata={}), HumanMessage(content='Hi', additional_kwargs={}, response_metadata={}), AIMessage(content='Hello, Pratap! What would you like to talk about today?', additional_kwargs={}, response_metadata={}), HumanMessage(content='My name is Pratap', additional_kwargs={}, response_metadata={}), AIMessage(content='Nice to hear from you again, Pratap! How can I assist you today?', additional_kwargs={}, response_metadata={}), HumanMessage(content='Who am I?', additional_kwargs={}, response_metadata={}), AIMessage(content=\"You are Pratap, as you've mentioned before. If there's anything specific you'd like to explore or discuss about yourself, feel free to let me know!\", additional_kwargs={}, response_metadata={})]\n"
     ]
    }
   ],
   "source": [
    "user_input = input(\"Enter: \")\n",
    "while user_input != \"exit\":\n",
    "    conversation_history.append(HumanMessage(content=user_input))\n",
    "    result = agent.invoke({\"messages\": conversation_history})\n",
    "    conversation_history = result[\"messages\"]\n",
    "    user_input = input(\"Enter: \")"
   ]
  },
  {
   "cell_type": "code",
   "execution_count": 34,
   "metadata": {},
   "outputs": [
    {
     "name": "stdout",
     "output_type": "stream",
     "text": [
      "Conversation saved to logging.txt\n"
     ]
    }
   ],
   "source": [
    "with open(\"logging.txt\", \"w\") as file:\n",
    "    file.write(\"Your Conversation Log:\\n\")\n",
    "    \n",
    "    for message in conversation_history:\n",
    "        if isinstance(message, HumanMessage):\n",
    "            file.write(f\"You: {message.content}\\n\")\n",
    "        elif isinstance(message, AIMessage):\n",
    "            file.write(f\"AI: {message.content}\\n\\n\")\n",
    "    file.write(\"End of Conversation\")\n",
    "\n",
    "print(\"Conversation saved to logging.txt\")"
   ]
  }
 ],
 "metadata": {
  "kernelspec": {
   "display_name": "Python 3",
   "language": "python",
   "name": "python3"
  },
  "language_info": {
   "codemirror_mode": {
    "name": "ipython",
    "version": 3
   },
   "file_extension": ".py",
   "mimetype": "text/x-python",
   "name": "python",
   "nbconvert_exporter": "python",
   "pygments_lexer": "ipython3",
   "version": "3.12.0"
  }
 },
 "nbformat": 4,
 "nbformat_minor": 2
}
